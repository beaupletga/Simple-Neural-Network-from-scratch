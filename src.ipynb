{
 "cells": [
  {
   "cell_type": "code",
   "execution_count": 4,
   "metadata": {
    "collapsed": true
   },
   "outputs": [],
   "source": [
    "import numpy as np\n",
    "np.random.seed(2)\n",
    "import matplotlib.pyplot as plt\n",
    "import copy"
   ]
  },
  {
   "cell_type": "code",
   "execution_count": 55,
   "metadata": {},
   "outputs": [
    {
     "data": {
      "text/plain": [
       "1"
      ]
     },
     "execution_count": 55,
     "metadata": {},
     "output_type": "execute_result"
    }
   ],
   "source": [
    "a=(1,2)\n",
    "a[0]"
   ]
  },
  {
   "cell_type": "code",
   "execution_count": 20,
   "metadata": {
    "collapsed": true
   },
   "outputs": [],
   "source": [
    "def loss(x,y,derivative=False,name='mse'):\n",
    "    if name=='mse':\n",
    "        return mse(x,y,derivative)\n",
    "    if name=='mae':\n",
    "        return mae(x,y,derivative)\n",
    "\n",
    "def mse(x,y,derivative=False):\n",
    "    if not derivative:\n",
    "        return 0.5*np.mean(x-y)**2\n",
    "    else:\n",
    "        return (x-y)\n",
    "    \n",
    "def mae(x,y,derivative=False):\n",
    "    if not derivative:\n",
    "        return np.abs(x-y)\n",
    "    else:\n",
    "        return (x-y)/(((x-y)**2)**0.5)\n",
    "\n",
    "def show_error(error_list):\n",
    "    plt.clf()\n",
    "    plt.plot(error_list)\n",
    "    plt.show()"
   ]
  },
  {
   "cell_type": "code",
   "execution_count": 63,
   "metadata": {},
   "outputs": [],
   "source": [
    "def weights_initializer(size,name='random_normal'):\n",
    "    if name=='random_normal':\n",
    "        return np.random.normal(size=size)\n",
    "    if name=='random_uniform':\n",
    "        return np.random.uniform(size=size)\n",
    "    if name=='random':\n",
    "        return 2*np.random.random(size=size)-1\n",
    "    if name=='zeros':\n",
    "        return np.zeros(size)\n",
    "    if name=='ones':\n",
    "        return np.ones(size)\n",
    "    if name=='lecun_uniform':\n",
    "        limit=np.sqrt(3 / size[0])\n",
    "        return np.random.uniform(low=-limit,high=limit,size=size)\n",
    "    if name=='TruncatedNormal':\n",
    "        return np.random.normal(loc=0,scale=0.5,size=size)\n"
   ]
  },
  {
   "cell_type": "code",
   "execution_count": 6,
   "metadata": {
    "collapsed": true
   },
   "outputs": [],
   "source": [
    "def f(x,is_derivative=False,name='elu'):\n",
    "    if name=='relu':\n",
    "        return relu(x,is_derivative)\n",
    "    if name=='sigmoid':\n",
    "        return sigmoid(x,is_derivative)\n",
    "    if name=='tanh':\n",
    "        return tanh(x,is_derivative)\n",
    "    if name=='elu':\n",
    "        return elu(x,is_derivative)\n",
    "    \n",
    "def sigmoid(a,is_derivative=False):\n",
    "    x=copy.copy(a)\n",
    "    if is_derivative:\n",
    "        return x*(1-x)\n",
    "    return 1/(1+np.exp(-x))    \n",
    "\n",
    "def relu(a,is_derivative=False):\n",
    "    x=copy.copy(a)\n",
    "    if not is_derivative:\n",
    "        return np.maximum(x,0)\n",
    "    else:\n",
    "        x[x>=0]=1\n",
    "        x[x<0]=0\n",
    "        return x\n",
    "def tanh(a,is_derivative=False):\n",
    "    x=copy.copy(a)\n",
    "    if not is_derivative:\n",
    "        return np.tanh(x)\n",
    "    else:\n",
    "        return 1-x**2\n",
    "    \n",
    "def elu(a,is_derivative=False):\n",
    "    alpha=1\n",
    "    x=copy.copy(a)\n",
    "    if not is_derivative:\n",
    "        x[x<0]=alpha*(np.exp(x[x<0])-1)\n",
    "        return x\n",
    "    else:\n",
    "        x[x>=0]=1\n",
    "        x[x<0]=x[x<0]+alpha\n",
    "        return x"
   ]
  },
  {
   "cell_type": "code",
   "execution_count": 7,
   "metadata": {
    "collapsed": true
   },
   "outputs": [],
   "source": [
    "def drop(a,drop_name='dropout',ratio=0.25):\n",
    "    if drop_name==None:\n",
    "        return a\n",
    "    if drop_name=='dropout':\n",
    "        return dropout(a,ratio)\n",
    "    elif dop_name==\"dc\":\n",
    "        return drop_connect(a,ratio)\n",
    "\n",
    "# we set randomly connections to zeros\n",
    "def drop_connect(a,ratio=0.05):\n",
    "    x=copy.copy(a)\n",
    "    rand=np.random.random(list(x.shape))\n",
    "    x[rand<ratio]=0\n",
    "    return x\n",
    "\n",
    "# we set to zeros one of the column of the weights matrix\n",
    "def dropout(a,ratio):\n",
    "    x=copy.copy(a)\n",
    "    rand=np.random.rand(x.shape[1])\n",
    "    x[:,rand<ratio]=0\n",
    "    return x"
   ]
  },
  {
   "cell_type": "code",
   "execution_count": 62,
   "metadata": {},
   "outputs": [
    {
     "name": "stdout",
     "output_type": "stream",
     "text": [
      "[[  8.88178420e-16]\n",
      " [  1.00000000e+00]\n",
      " [  1.00000000e+00]\n",
      " [  4.16333634e-16]]\n"
     ]
    },
    {
     "data": {
      "image/png": "[encoded data removed]",
      "text/plain": [
       "<matplotlib.figure.Figure at 0x7f76c0c5f610>"
      ]
     },
     "metadata": {},
     "output_type": "display_data"
    }
   ],
   "source": [
    "def neural_network(x,y,epochs,hidden=[2,3],bias=True,gamma=0.1,drop_name=None,loss_name='mse',\n",
    "                  weights_init_name='random_normal'):\n",
    "    length=len(hidden)\n",
    "    error_list=[]\n",
    "    \n",
    "#     initialize the weigths for consistant matrix multiplications\n",
    "    weights_list=[weights_initializer((x.shape[1],hidden[0]),weights_init_name)]\n",
    "    for i in range(1,length):\n",
    "        weights_list.append(weights_initializer((hidden[i-1],hidden[i]),weights_init_name))\n",
    "    weights_list.append(weights_initializer((hidden[-1],y.shape[1]),weights_init_name))\n",
    "    \n",
    "#     add bias \n",
    "#     there are as many bias as hidden_layer+1\n",
    "    if bias:\n",
    "        bias=2*np.random.rand(length+1)-1\n",
    "    else:\n",
    "        bias=np.zeros(length+1)\n",
    "        \n",
    "#     learning rate\n",
    "    for iter in range(epochs):\n",
    "#         list containing the output of each layer\n",
    "#         len(out_list)=len(hidden)+1\n",
    "        out_list=[]\n",
    "        for j in range(0,length+1):\n",
    "#             if first layer the first element is x\n",
    "            if j==0:\n",
    "                out_list.append(f(x.dot(drop(weights_list[0],drop_name))+bias[j]))\n",
    "#             else this is the result of the previous layer\n",
    "            else:\n",
    "#                we don t apply dropout to the last layer because we might annul one of the outputs neurons   \n",
    "                if j!=length:\n",
    "                    out_list.append(f(out_list[-1].dot(drop(weights_list[j],drop_name))+bias[j]))\n",
    "                else:\n",
    "                    out_list.append(f(out_list[-1].dot(weights_list[j])+bias[j]))\n",
    "#         print out_list\n",
    "#         compute the error of the algorithm (for the error curve)        \n",
    "        error = np.mean(loss(out_list[-1],y,loss_name))\n",
    "        \n",
    "#         compute the first two partial derivative a the thumb rule\n",
    "        delta_list=[loss(out_list[-1],y,True,loss_name)*f(out_list[-1],True)]\n",
    "#         print out_list\n",
    "        for j in range(length,-1,-1):\n",
    "#             print out_list\n",
    "#             we use the previous result the previous delta\n",
    "#             we then multiply it by the weights of the next layer\n",
    "            delta_list.append(delta_list[-1].dot(weights_list[j].T)*f(out_list[j-1],True))\n",
    "        \n",
    "#         update the weights between each layer \n",
    "#         there are (lengths+1) weights matrix\n",
    "        for j in range(0,length+1):\n",
    "#             if this is the first weights matrix, then the input isn t the result of the previous layer but x (input data)\n",
    "            if j==0:\n",
    "                weights_list[j] -= gamma* x.T.dot(delta_list[length])\n",
    "#             if this is not the first weights matrix, then the input is the result of the previous layer\n",
    "            else:\n",
    "                weights_list[j] -= gamma* out_list[j-1].T.dot(delta_list[length-j])\n",
    "        \n",
    "        for j in range(length,-1,-1):\n",
    "            bias[j] -= gamma * np.mean(delta_list[j+1])\n",
    "#         we append each error to a list to see the evolution of the error\n",
    "        error_list.append(error)\n",
    "    print out_list[-1]\n",
    "#     show the error with pyplot\n",
    "    show_error(error_list)\n",
    "\n",
    "x=np.array([[0,0],[0,1],[1,0],[1,1]])\n",
    "y=np.array([[0,1,1,0]]).T\n",
    "\n",
    "neural_network(x,y,hidden=[4,2],epochs=1000,gamma=0.1,bias=True,drop_name=None,loss_name='mse',weights_init_name='lecun_uniform')"
   ]
  },
  {
   "cell_type": "code",
   "execution_count": null,
   "metadata": {
    "collapsed": true
   },
   "outputs": [],
   "source": []
  }
 ],
 "metadata": {
  "kernelspec": {
   "display_name": "Python 2",
   "language": "python",
   "name": "python2"
  },
  "language_info": {
   "codemirror_mode": {
    "name": "ipython",
    "version": 2
   },
   "file_extension": ".py",
   "mimetype": "text/x-python",
   "name": "python",
   "nbconvert_exporter": "python",
   "pygments_lexer": "ipython2",
   "version": "2.7.12"
  }
 },
 "nbformat": 4,
 "nbformat_minor": 2
}
