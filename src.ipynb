{
 "cells": [
  {
   "cell_type": "code",
   "execution_count": 263,
   "metadata": {
    "collapsed": true
   },
   "outputs": [],
   "source": [
    "import numpy as np\n",
    "np.random.seed(2)\n",
    "import matplotlib.pyplot as plt\n",
    "import copy"
   ]
  },
  {
   "cell_type": "code",
   "execution_count": 327,
   "metadata": {},
   "outputs": [
    {
     "data": {
      "text/plain": [
       "array([-2,  2,  3])"
      ]
     },
     "execution_count": 327,
     "metadata": {},
     "output_type": "execute_result"
    }
   ],
   "source": [
    "a=np.array([-1,2,3])\n",
    "\n",
    "a[a<0]=a[a<0]*2\n",
    "\n",
    "a"
   ]
  },
  {
   "cell_type": "code",
   "execution_count": 328,
   "metadata": {
    "collapsed": true
   },
   "outputs": [],
   "source": [
    "def f(x,is_derivative=False,name='elu'):\n",
    "    if name=='relu':\n",
    "        return relu(x,is_derivative)\n",
    "    if name=='sigmoid':\n",
    "        return sigmoid(x,is_derivative)\n",
    "    if name=='tanh':\n",
    "        return tanh(x,is_derivative)\n",
    "    if name=='elu':\n",
    "        return elu(x,is_derivative)\n",
    "    \n",
    "def sigmoid(a,is_derivative=False):\n",
    "    x=copy.copy(a)\n",
    "    if is_derivative:\n",
    "        return x*(1-x)\n",
    "    return 1/(1+np.exp(-x))    \n",
    "\n",
    "def relu(a,is_derivative=False):\n",
    "    x=copy.copy(a)\n",
    "    if not is_derivative:\n",
    "        return np.maximum(x,0)\n",
    "    else:\n",
    "        x[x>=0]=1\n",
    "        x[x<0]=0\n",
    "        return x\n",
    "def tanh(a,is_derivative=False):\n",
    "    x=copy.copy(a)\n",
    "    if not is_derivative:\n",
    "        return np.tanh(x)\n",
    "    else:\n",
    "        return 1-x**2\n",
    "    \n",
    "def elu(a,is_derivative=False):\n",
    "    alpha=1\n",
    "    x=copy.copy(a)\n",
    "    if not is_derivative:\n",
    "        x[x<0]=alpha*(np.exp(x[x<0])-1)\n",
    "        return x\n",
    "    else:\n",
    "        x[x>=0]=1\n",
    "        x[x<0]=x[x<0]+alpha\n",
    "        return x"
   ]
  },
  {
   "cell_type": "code",
   "execution_count": 281,
   "metadata": {},
   "outputs": [],
   "source": [
    "\n",
    "def mse(x,y):\n",
    "    return 0.5*np.mean(x-y)**2\n",
    "        \n",
    "\n",
    "def neural_network(x,y,hidden=[2]):\n",
    "    error_list=[]\n",
    "    w1=2*np.random.rand(x.shape[1],hidden[0])-1\n",
    "    w2=2*np.random.rand(hidden[0],y.shape[1])-1\n",
    "    bias=2*np.random.rand(len(hidden)+1)-1\n",
    "    gamma = 0.01\n",
    "    for iter in range(100000):\n",
    "        out1 = f(x.dot(w1)+bias[0])\n",
    "        out2 = f(out1.dot(w2)+bias[1])\n",
    "        error = mse(out2,y)\n",
    "        \n",
    "        delta2 = (out2-y)*f(out2,True)\n",
    "        \n",
    "        error1 = delta2.dot(w2.T)\n",
    "        delta1 = error1 * f(out1,True)\n",
    "        \n",
    "        \n",
    "        w2 -= gamma* out1.T.dot(delta2)\n",
    "        bias[1] -= gamma * np.mean(delta2)\n",
    "        bias[0] -= gamma * np.mean(delta1)\n",
    "        w1 -= gamma* x.T.dot(delta1)\n",
    "\n",
    "        error_list.append(error)\n",
    "    plt.clf()\n",
    "    plt.plot(error_list)\n",
    "    plt.show()\n",
    "    print out2\n",
    "    return w1,w2\n",
    "\n",
    "# def neural_network(x,y,hidden=[2]):\n",
    "#     error_list=[]\n",
    "#     w1=2*np.random.rand(x.shape[1],1)-1\n",
    "#     for iter in range(100):\n",
    "#         out=f(x.dot(w1))\n",
    "#         error=mse(out,y)\n",
    "#         w1 -= 1 * x.T.dot(((out-y)*out*(1-out)))\n",
    "#         error_list.append(error)\n",
    "#     plt.clf()\n",
    "#     plt.plot(error_list)\n",
    "#     plt.show()\n",
    "#     print out\n",
    "#     return w1\n",
    "                                        \n",
    "x=np.array([[0,0],[0,1],[1,0],[1,1]])\n",
    "y=np.array([[0,1,1,0]]).T\n",
    "\n",
    "# w1,w2=neural_network(x,y,[2])\n"
   ]
  },
  {
   "cell_type": "code",
   "execution_count": 330,
   "metadata": {},
   "outputs": [
    {
     "name": "stdout",
     "output_type": "stream",
     "text": [
      "[[  1.21603748e-05]\n",
      " [  1.00107879e+00]\n",
      " [  9.98927657e-01]\n",
      " [  1.10959995e-04]]\n"
     ]
    },
    {
     "data": {
      "image/png": "[encoded data removed]",
      "text/plain": [
       "<matplotlib.figure.Figure at 0x7fa238358050>"
      ]
     },
     "metadata": {},
     "output_type": "display_data"
    }
   ],
   "source": [
    "def show_error(error_list):\n",
    "    plt.clf()\n",
    "    plt.plot(error_list)\n",
    "    plt.show()\n",
    "\n",
    "\n",
    "def neural_network(x,y,epochs,hidden=[2,3],bias=True,gamma=0.1):\n",
    "    length=len(hidden)\n",
    "    error_list=[]\n",
    "    \n",
    "#     initialize the weigths for consistant matrix multiplications\n",
    "    weights_list=[2*np.random.rand(x.shape[1],hidden[0])-1]\n",
    "    for i in range(1,length):\n",
    "        weights_list.append(2*np.random.rand(hidden[i-1],hidden[i])-1)\n",
    "    weights_list.append(2*np.random.rand(hidden[-1],y.shape[1])-1)\n",
    "    \n",
    "#     add bias \n",
    "#     there are as many bias as hidden_layer+1\n",
    "    if bias:\n",
    "        bias=2*np.random.rand(length+1)-1\n",
    "    else:\n",
    "        bias=np.zeros(length+1)\n",
    "        \n",
    "#     learning rate\n",
    "    for iter in range(epochs):\n",
    "#         list containing the output of each layer\n",
    "#         len(out_list)=len(hidden)+1\n",
    "        out_list=[]\n",
    "        for j in range(0,length+1):\n",
    "#             if first layer the first element is x\n",
    "            if j==0:\n",
    "                out_list.append(f(x.dot(weights_list[0])+bias[j]))\n",
    "#             else this is the result of the previous layer\n",
    "            else:\n",
    "                out_list.append(f(out_list[-1].dot(weights_list[j])+bias[j]))\n",
    "#         print out_list\n",
    "#         compute the error of the algorithm (for the error curve)        \n",
    "        error = mse(out_list[-1],y)\n",
    "        \n",
    "#         compute the first two partial derivative a the thumb rule\n",
    "        delta_list=[(out_list[-1]-y)*f(out_list[-1],True)]\n",
    "#         print out_list\n",
    "        for j in range(length,-1,-1):\n",
    "#             print out_list\n",
    "#             we use the previous result the previous delta\n",
    "#             we then multiply it by the weights of the next layer\n",
    "            delta_list.append(delta_list[-1].dot(weights_list[j].T)*f(out_list[j-1],True))\n",
    "        \n",
    "#         update the weights between each layer \n",
    "#         there are (lengths+1) weights matrix\n",
    "        for j in range(0,length+1):\n",
    "#             if this is the first weights matrix, then the input isn t the result of the previous layer but x (input data)\n",
    "            if j==0:\n",
    "                weights_list[j] -= gamma* x.T.dot(delta_list[length])\n",
    "#             if this is not the first weights matrix, then the input is the result of the previous layer\n",
    "            else:\n",
    "                weights_list[j] -= gamma* out_list[j-1].T.dot(delta_list[length-j])\n",
    "        \n",
    "        for j in range(length,-1,-1):\n",
    "            bias[j] -= gamma * np.mean(delta_list[j+1])\n",
    "#         we append each error to a list to see the evolution of the error\n",
    "        error_list.append(error)\n",
    "    print out_list[-1]\n",
    "#     show the error with pyplot\n",
    "    show_error(error_list)\n",
    "\n",
    "x=np.array([[0,0],[0,1],[1,0],[1,1]])\n",
    "y=np.array([[0,1,1,0]]).T\n",
    "\n",
    "neural_network(x,y,hidden=[4,2],epochs=100,gamma=0.1,bias=True)"
   ]
  },
  {
   "cell_type": "code",
   "execution_count": null,
   "metadata": {
    "collapsed": true
   },
   "outputs": [],
   "source": []
  }
 ],
 "metadata": {
  "kernelspec": {
   "display_name": "Python 2",
   "language": "python",
   "name": "python2"
  },
  "language_info": {
   "codemirror_mode": {
    "name": "ipython",
    "version": 2
   },
   "file_extension": ".py",
   "mimetype": "text/x-python",
   "name": "python",
   "nbconvert_exporter": "python",
   "pygments_lexer": "ipython2",
   "version": "2.7.12"
  }
 },
 "nbformat": 4,
 "nbformat_minor": 2
}
